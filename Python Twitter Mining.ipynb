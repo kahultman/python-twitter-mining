{
 "cells": [
  {
   "cell_type": "markdown",
   "metadata": {},
   "source": [
    "# Python Twitter Mining \n",
    "\n",
    "This is a personal project to Data Mine Twitter using Python. \n",
    "\n",
    "The objectives of this project are\n",
    "\n",
    "1. To practice and continue to learn Python. This will be the first time writing Python on my own after some initial Python tutuorials. \n",
    "2. To learn how to use Jupyter Notebooks for reproducible research and to become more comfortable with that environment. \n",
    "3. Further practice using the Twitter API for data aquisition.\n",
    "4. Develop some interesting questions regarding trends in Twitter data.\n",
    "5. Identify potential topics for the Data Mining Course project at Elmhurst College.\n",
    "\n",
    "All of my previous Data Science projects involved R or Tableau. The upcoming project in the Data Mining course I am currently taking involves mining Twitter with Python. However, because it is not a programming course, the actual code we will use is provided for us. I have wanted to learn python for a while and would prefer to get the code running from the ground up, so I'm undertaking this project several weeks ahead of the assigned project in hopes of learning and using my own coding. I assume I will be copying some code directly from the book as I go. However, I intend to first make progress on my own before referring to the code used in the text. \n",
    "\n",
    "\n",
    "## Let's start with getting the Twitter API up and working.\n"
   ]
  },
  {
   "cell_type": "code",
   "execution_count": 8,
   "metadata": {
    "collapsed": false
   },
   "outputs": [
    {
     "name": "stdout",
     "output_type": "stream",
     "text": [
      "{\"created_at\": \"Mon Jun 22 04:06:13 +0000 2009\", \"favourites_count\": 8, \"followers_count\": 23, \"friends_count\": 94, \"id\": 49531487, \"lang\": \"en\", \"location\": \"Chicago\", \"name\": \"Keith Hultman\", \"profile_background_color\": \"FFF04D\", \"profile_background_image_url\": \"http://abs.twimg.com/images/themes/theme19/bg.gif\", \"profile_background_tile\": false, \"profile_image_url\": \"https://pbs.twimg.com/profile_images/1216461482/TwitterProfile_normal.jpg\", \"profile_link_color\": \"0099CC\", \"profile_sidebar_fill_color\": \"F6FFD1\", \"profile_text_color\": \"333333\", \"protected\": false, \"screen_name\": \"keithhultman\", \"status\": {\"created_at\": \"Tue Feb 09 01:23:16 +0000 2016\", \"favorited\": false, \"id\": 696866924353953792, \"lang\": \"en\", \"retweeted\": false, \"source\": \"<a href=\\\"https://github.com/kahultman/python-twitter-mining\\\" rel=\\\"nofollow\\\">PythonTwitterMining</a>\", \"text\": \"Posting using Python code and the API for the first time\", \"truncated\": false}, \"statuses_count\": 27, \"time_zone\": \"Central Time (US & Canada)\", \"url\": \"http://t.co/Znlnwk5aAP\", \"utc_offset\": -21600}\n"
     ]
    }
   ],
   "source": [
    "import twitter\n",
    "import os\n",
    "\n",
    "# My Twitter API key, secret, token, and token secret are stored \n",
    "# in my bash profile on my machine.\n",
    "# This loads the keys into a local variable \n",
    "\n",
    "CONSUMER_KEY = os.environ['TWITTER_API_KEY']\n",
    "CONSUMER_SECRET = os.environ['TWITTER_API_SECRET']\n",
    "OAUTH_TOKEN = os.environ['TWITTER_PTM_TOKEN']\n",
    "OAUTH_TOKEN_SECRET = os.environ['TWITTER_PTM_TOKEN_SECRET']\n",
    "\n",
    "# Calls the twitter API \n",
    "api = twitter.Api(CONSUMER_KEY, CONSUMER_SECRET, OAUTH_TOKEN, OAUTH_TOKEN_SECRET)\n",
    "\n",
    "# To test that this works, I'm using sample code from the \n",
    "# phython-twitter example code \n",
    "print(api.VerifyCredentials())"
   ]
  },
  {
   "cell_type": "markdown",
   "metadata": {
    "collapsed": true
   },
   "source": [
    "## Success! \n",
    "\n",
    "I don't normally use twitter for posting or following many friends. I usually just use the search and trend data on twitter during sporting or live events. It will be interesting to see what kinds of patterns I will be able to glean from twitter data. \n"
   ]
  },
  {
   "cell_type": "code",
   "execution_count": 9,
   "metadata": {
    "collapsed": false
   },
   "outputs": [],
   "source": [
    "# Another test. This time to post a Tweet.\n",
    "\n",
    "#status = api.PostUpdate('Posting using Python code and the API for the first time')\n",
    "#print(status.text)\n"
   ]
  },
  {
   "cell_type": "markdown",
   "metadata": {},
   "source": [
    "## Let's see what is trending in Chicago\n",
    "\n",
    "Chicago's WOEID is 2379574\n",
    "\n"
   ]
  },
  {
   "cell_type": "code",
   "execution_count": 11,
   "metadata": {
    "collapsed": false
   },
   "outputs": [
    {
     "name": "stdout",
     "output_type": "stream",
     "text": [
      "[#TheBachelor, #LHHNY, #TheXFiles, #ThankYouDanielBryan, #BadValentineIn5Words, Kevin Owens, Grayson Allen, UConn, Ted Nugent, Chipotle, Michael Bloomberg, GameTrailers, Breanna Stewart, MariahLynn, Mendeecees, Brie Bella, Stephanie McMahon, BBOD, Rich and Cisco, Zenefits, Brandon Ingram, Plumlee, Donovan Mitchell, #HowToBeSinglePromo, #inners, #UnlikelyBreakUpTexts, #TheFosters, #Telenovela, #MizTV, #VoteTogether, #NewBenJPierceVideo, #Beanpot, #MyImaginaryFriendSays, #FacetimeMeNate, #EdwinsVideo, #ProudOfZayn, #CandyHeartsRejects, #AskMatt, #Celia, #rvacouncil, #603forHRC, #OscarsLunch, #CRS2016, #TWTBlog, #oreillyfactor, #SupGirl, #DiosdadoNarcoYLadron, #AnaheimDucksGoooaaalll, #RTPodcast, #yanic]\n"
     ]
    }
   ],
   "source": [
    "CHI_WOEID = 2379574\n",
    "\n",
    "chicago_trends = api.GetTrendsWoeid(id=CHI_WOEID)\n",
    "print chicago_trends"
   ]
  },
  {
   "cell_type": "markdown",
   "metadata": {},
   "source": [
    "## Looks like the Bachelor and the XFiles are trending tonight.\n",
    "\n"
   ]
  },
  {
   "cell_type": "code",
   "execution_count": null,
   "metadata": {
    "collapsed": true
   },
   "outputs": [],
   "source": []
  }
 ],
 "metadata": {
  "kernelspec": {
   "display_name": "Python 2",
   "language": "python",
   "name": "python2"
  },
  "language_info": {
   "codemirror_mode": {
    "name": "ipython",
    "version": 2
   },
   "file_extension": ".py",
   "mimetype": "text/x-python",
   "name": "python",
   "nbconvert_exporter": "python",
   "pygments_lexer": "ipython2",
   "version": "2.7.11"
  }
 },
 "nbformat": 4,
 "nbformat_minor": 0
}
